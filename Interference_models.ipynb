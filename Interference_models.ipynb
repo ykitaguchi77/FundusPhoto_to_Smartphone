{
  "nbformat": 4,
  "nbformat_minor": 0,
  "metadata": {
    "colab": {
      "provenance": [],
      "authorship_tag": "ABX9TyOv1ZH0DDMDsp0T4cps5iZG",
      "include_colab_link": true
    },
    "kernelspec": {
      "name": "python3",
      "display_name": "Python 3"
    },
    "language_info": {
      "name": "python"
    },
    "accelerator": "GPU"
  },
  "cells": [
    {
      "cell_type": "markdown",
      "metadata": {
        "id": "view-in-github",
        "colab_type": "text"
      },
      "source": [
        "<a href=\"https://colab.research.google.com/github/ykitaguchi77/FundusPhoto_to_Smartphone/blob/main/Interference_models.ipynb\" target=\"_parent\"><img src=\"https://colab.research.google.com/assets/colab-badge.svg\" alt=\"Open In Colab\"/></a>"
      ]
    },
    {
      "cell_type": "markdown",
      "source": [
        "#**Interference using pretrained models**"
      ],
      "metadata": {
        "id": "7bnfu3qWA2lX"
      }
    },
    {
      "cell_type": "code",
      "execution_count": 25,
      "metadata": {
        "colab": {
          "base_uri": "https://localhost:8080/"
        },
        "id": "TF6RLIRqARlg",
        "outputId": "e9357869-bade-46ae-d9cc-69704bb549d1"
      },
      "outputs": [
        {
          "output_type": "stream",
          "name": "stdout",
          "text": [
            "Setup complete. Using torch 1.13.0+cu116 _CudaDeviceProperties(name='Tesla T4', major=7, minor=5, total_memory=15109MB, multi_processor_count=40)\n",
            "Drive already mounted at /content/drive; to attempt to forcibly remount, call drive.mount(\"/content/drive\", force_remount=True).\n"
          ]
        }
      ],
      "source": [
        "from IPython.display import Image, clear_output\n",
        "import os\n",
        "import shutil\n",
        "import glob\n",
        "from PIL import Image\n",
        "import matplotlib.pyplot as plt\n",
        "import numpy as np\n",
        "import pandas as pd\n",
        "import torchvision\n",
        "from torchvision import datasets, models, transforms\n",
        "from torch.utils.data import Dataset, DataLoader\n",
        "import torch\n",
        "import torch.nn as nn\n",
        "!pip install torch_optimizer\n",
        "import torch_optimizer as optim\n",
        "import torch.utils.data as data\n",
        "\n",
        "clear_output()\n",
        "print('Setup complete. Using torch %s %s' % (torch.__version__, torch.cuda.get_device_properties(0) if torch.cuda.is_available() else 'CPU'))\n",
        "device = torch.device(\"cuda:0\" if torch.cuda.is_available() else \"cpu\")\n",
        "\n",
        "#GDriveをマウント\n",
        "from google.colab import drive\n",
        "drive.mount('/content/drive')"
      ]
    },
    {
      "cell_type": "markdown",
      "source": [
        "#**Interference用画像作成**"
      ],
      "metadata": {
        "id": "iQHiZ21wc1a1"
      }
    },
    {
      "cell_type": "code",
      "source": [
        "# Interfernce用画像を作成し格納\n",
        "dst_path = \"/content/drive/MyDrive/Deep_learning/FundusPhoto_to_Smartphone/flipped_384px\"\n",
        "if os.path.exists(dst_path):\n",
        "    shutil.rmtree(dst_path)\n",
        "os.makedirs(dst_path)\n",
        "\n",
        "# Interference用の画像\n",
        "dataset_folder = \"/content/drive/MyDrive/Deep_learning/FundusPhoto/flipped_img\"\n",
        "\n",
        "dataset_list = glob.glob(f\"{dataset_folder}/*\")\n",
        "plt.imshow(Image.open(dataset_list[0]))\n",
        "plt.show()\n",
        "\n",
        "# 作成したフォルダに移動（1: 全て右眼に、2: 黒縁切り取り、3: 384px四方）\n",
        "for n, img_path in enumerate(dataset_list):\n",
        "    img = Image.open(img_path).convert('RGB')\n",
        "    img_cropped = img.crop((50, 50, 1220, 1220)) # 黒縁を切り抜き\n",
        "    img_resized = img_cropped.resize((384, 384)) # swin-transformer用にリサイズ\n",
        "    img_resized.save(f\"{dst_path}/{os.path.basename(img_path)}\")\n",
        "    print(f\"{n}/{len(dataset_list)}: {os.path.basename(img_path)}\")\n",
        "    #plt.show()\n",
        "\n",
        "                 \n"
      ],
      "metadata": {
        "id": "t-v5sQsbMsjX"
      },
      "execution_count": null,
      "outputs": []
    },
    {
      "cell_type": "markdown",
      "source": [
        "#**Interference**"
      ],
      "metadata": {
        "id": "JVaeV4ZSe57e"
      }
    },
    {
      "cell_type": "code",
      "source": [
        "FILENAME_LABELCSV = '/content/drive/MyDrive/Deep_learning/FundusPhoto/name_age.csv' #年齢の値のcsv\n",
        "FILENAME_RESULTCSV = '/content/drive/MyDrive/Deep_learning/FundusPhoto_to_Smartphone/result.csv' #年齢推定結果を書き出すcsv\n",
        "DATASET_PATH = \"/content/drive/MyDrive/Deep_learning/FundusPhoto_to_Smartphone/flipped_384px\"\n",
        "MODEL_PATH = \"/content/drive/MyDrive/Deep_learning/FundusPhoto_to_Smartphone/model_20220903.pth\"\n",
        "\n",
        "LOG_PATH = \"./log_multi.txt\"\n",
        "ROC_PATH = \"./roc_multi.png\"\n",
        "CHECKPOINT_COUNT = 10\n",
        "EPOCH = 100\n",
        "PATIENCE = 20 #early stopping patience; how long to wait after last time validation loss improved.\n",
        "BATCH_SIZE = 16\n",
        "\n",
        "#csvファイルを開く\n",
        "df_labelcsv = pd.read_csv(FILENAME_LABELCSV)\n",
        "\n",
        "#csvファイルを表示\n",
        "print(df_labelcsv)\n",
        "\n",
        "#ID,ageの列の値をリストとして取り出す\n",
        "df_filename = df_labelcsv['filename'].values\n",
        "df_age = df_labelcsv['age'].values\n",
        "\n",
        "#CSVファイル内の画像数\n",
        "print(len(df_labelcsv))\n",
        "\n",
        "#画像フォルダ内の画像数\n",
        "print(len(os.listdir(DATASET_PATH)))\n"
      ],
      "metadata": {
        "id": "c1EUmvYyfVcy"
      },
      "execution_count": null,
      "outputs": []
    },
    {
      "cell_type": "code",
      "source": [
        "##########################\n",
        "# Load model \n",
        "##########################\n",
        "!pip install --quiet timm\n",
        "import timm\n",
        "import torch.nn as nn\n",
        "\n",
        "model_ft = timm.create_model('swin_base_patch4_window12_384', pretrained=True)\n",
        "num_ftrs = model_ft.head.in_features\n",
        "model_ft.head = nn.Linear(num_ftrs, 1)\n",
        "\n",
        "#ネットワークの読み込み\n",
        "model_ft.load_state_dict(torch.load(MODEL_PATH))"
      ],
      "metadata": {
        "colab": {
          "base_uri": "https://localhost:8080/"
        },
        "id": "I0s6sfExHeeZ",
        "outputId": "e8a3b427-cae6-415f-cd66-fbee6b05c41e"
      },
      "execution_count": 14,
      "outputs": [
        {
          "output_type": "execute_result",
          "data": {
            "text/plain": [
              "<All keys matched successfully>"
            ]
          },
          "metadata": {},
          "execution_count": 14
        }
      ]
    },
    {
      "cell_type": "code",
      "source": [
        "class SimpleImageDataset(Dataset):\n",
        "    def __init__(self, folder_path, csv_path, transform):\n",
        "        self.transform = transform\n",
        "        self.folder_path = folder_path\n",
        "        self.item_paths = []\n",
        "        self.item_dict = {}\n",
        "        self.age = []\n",
        "\n",
        "        for i in range(len(os.listdir(folder_path))):\n",
        "              img_name = os.listdir(self.folder_path)[i]\n",
        "              age_temp = df_labelcsv[df_labelcsv['filename'] == img_name].iloc[0,1] #age\n",
        "              self.age.append(float(age_temp))\n",
        "\n",
        "              img_path = os.path.join(self.folder_path, img_name)\n",
        "              self.item_paths.append(img_path)\n",
        "              #self.item_dict[image_path] = self.age\n",
        "\n",
        "\n",
        "    def __len__(self):\n",
        "        return len(self.item_paths)\n",
        "\n",
        "    def __getitem__(self, idx):\n",
        "        image_path = self.item_paths[idx]\n",
        "        pilr_image = Image.open(image_path).convert(\"RGB\")\n",
        "        tensor_image = self.transform(pilr_image)\n",
        "        target = torch.tensor([self.age[idx]])      \n",
        "        return tensor_image, target\n",
        "\n",
        "\n",
        "train_data_transforms = transforms.Compose([\n",
        "                transforms.RandomResizedCrop(384, scale=(0.75, 1.0)),\n",
        "                transforms.RandomHorizontalFlip(),\n",
        "                transforms.RandomVerticalFlip(),\n",
        "                transforms.RandomRotation(degrees=10),\n",
        "                transforms.ToTensor(),\n",
        "                transforms.Normalize([0.485, 0.456, 0.406], [0.229, 0.224, 0.225]),\n",
        "                ])\n",
        "val_data_transforms = transforms.Compose([\n",
        "                transforms.Resize(384),\n",
        "                #transforms.RandomHorizontalFlip(),\n",
        "                #transforms.RandomVerticalFlip(),\n",
        "                transforms.ToTensor(),\n",
        "                transforms.Normalize([0.485, 0.456, 0.406], [0.229, 0.224, 0.225]),\n",
        "                ]) \n",
        "\n",
        "test_dataset = SimpleImageDataset(DATASET_PATH, FILENAME_LABELCSV, val_data_transforms)\n",
        "# train_loader = DataLoader(train_dataset, batch_size = BATCH_SIZE, shuffle = True)\n",
        "# val_loader = DataLoader(val_dataset, batch_size = BATCH_SIZE, shuffle = False)\n",
        "test_loader = DataLoader(test_dataset, batch_size = 1, shuffle = False)\n",
        "\n",
        "print(f\"test_dataset_size： {str(len(test_dataset))}\")\n",
        "\n",
        "\n",
        "#水増し後の画像を可視化する関数\n",
        "def show_img(dataset):\n",
        "    plt.figure(figsize=(15, 3))\n",
        "    for i in range(5):\n",
        "        image, label = dataset[i]\n",
        "        image = image.permute(1, 2, 0)\n",
        "        plt.subplot(1, 5, i+1)\n",
        "        plt.tick_params(labelbottom=False, labelleft=False, labelright=False, labeltop=False)\n",
        "        plt.tick_params(bottom=False, left=False, right=False, top=False)\n",
        "        plt.imshow(image)\n",
        "        \n",
        "\n",
        "#画像の可視化\n",
        "show_img(test_dataset)\n",
        "print(test_dataset[1])"
      ],
      "metadata": {
        "id": "mguf6tkQRrR5"
      },
      "execution_count": null,
      "outputs": []
    },
    {
      "cell_type": "code",
      "source": [
        "import statistics\n",
        "import math\n",
        "\n",
        "def my_round(x, d=0): #四捨五入\n",
        "    p = 10 ** d\n",
        "    return float(math.floor((x * p) + math.copysign(0.5, x)))/p\n",
        "\n",
        "model_ft.to(device)\n",
        "model_ft.eval() # prep model for evaluation\n",
        "\n",
        "outputs,targets,errors =[], [], []\n",
        "for image_tensor, target in test_loader:  \n",
        "      target = target.view(len(target), 1)         \n",
        "      image_tensor = image_tensor.to(device)\n",
        "      target = target.to(device)\n",
        "      # forward pass: compute predicted outputs by passing inputs to the model\n",
        "      output = model_ft(image_tensor)\n",
        "\n",
        "      print(f\"target: {target}, output: {output}\")\n",
        "\n",
        "      outputs.append((output[0]).item())      \n",
        "      targets.append((target[0]).item())\n",
        "      #print('estimate R:'+str(my_round(output[0,0].item()))+'mm, L:'+str(my_round(output[0,1].item()))+'mm / target R:'+str(target[0,0].item())+'mm, L:'+str(target[0,1].item())+'mm')\n",
        "\n",
        "      errors.append((output[0]).item()-(target[0]).item())\n",
        "\n",
        "AbsError = [abs(i) for i in errors]\n",
        "\n",
        "print('AveError: '+str(statistics.mean(errors)))\n",
        "print('StdError: '+str(statistics.stdev(errors)))\n",
        "print('AveAbsError: '+str(statistics.mean(AbsError)))\n",
        "print('StdAbsError: '+str(statistics.stdev(AbsError)))\n",
        "\n",
        "\n",
        "#平均からの差分を補正\n",
        "corrected_output = (np.array(outputs)-np.array(statistics.mean(errors))).tolist()\n",
        "corrected_error = (np.array(corrected_output)-np.array(targets)).tolist()\n",
        "corrected_AbsError = [abs(i) for i in corrected_error]\n",
        "\n",
        "round_output = [my_round(i) for i in outputs]\n",
        "round_corrected_AbsError = [my_round(i) for i in corrected_AbsError]\n",
        "\n",
        "print('Corrected_AveAbsError: '+str(statistics.mean(corrected_AbsError)))\n",
        "print('Corrected_StdAbsError: '+str(statistics.stdev(corrected_AbsError)))\n",
        "\n",
        "\n",
        "#csvを作成して保存\n",
        "columns = [\"result\"]\n",
        "index = [\"AveError\", \"StdError\", \"AveAbsError\", \"StdAbsError\", \"Corrected_AveAbsError\", \"Corrected_StdAbsError\"]\n",
        "df = pd.DataFrame(index=index, columns=columns)\n",
        "df.iloc[0:6, 0] =[statistics.mean(errors),statistics.stdev(errors),statistics.mean(AbsError),statistics.stdev(AbsError), statistics.mean(corrected_AbsError),statistics.stdev(corrected_AbsError)]\n",
        "print(df)\n",
        "\n",
        "PATH = FILENAME_RESULTCSV\n",
        "df.to_csv(index=True, path_or_buf=PATH)\n",
        "     "
      ],
      "metadata": {
        "id": "hEBaEhMNPF-i"
      },
      "execution_count": null,
      "outputs": []
    },
    {
      "cell_type": "code",
      "source": [
        "import seaborn as sns\n",
        "\n",
        "#Draw Graphs（散布図)\n",
        "df = pd.DataFrame({'estimate':outputs, 'target':targets})\n",
        "\n",
        "sns.set_style('whitegrid')\n",
        "sns.set_palette('gray')\n",
        "figure = sns.lmplot(x='target', y='estimate', data=df)\n",
        "plt.xlim(0,100)\n",
        "plt.ylim(0,100)\n",
        "\n",
        "# PATH = MODEL_PATH+'/'+DATASET_NAME+'.png'\n",
        "# figure.savefig(PATH)"
      ],
      "metadata": {
        "id": "3lTM5cgepgk6",
        "outputId": "6989e70c-21ab-4bda-eb90-bf6c5fe5952e",
        "colab": {
          "base_uri": "https://localhost:8080/",
          "height": 391
        }
      },
      "execution_count": 49,
      "outputs": [
        {
          "output_type": "execute_result",
          "data": {
            "text/plain": [
              "(0.0, 100.0)"
            ]
          },
          "metadata": {},
          "execution_count": 49
        },
        {
          "output_type": "display_data",
          "data": {
            "text/plain": [
              "<Figure size 360x360 with 1 Axes>"
            ],
            "image/png": "[encoded data removed]"
          },
          "metadata": {}
        }
      ]
    },
    {
      "cell_type": "code",
      "source": [
        "n, bins, patches=plt.hist(targets)\n",
        "plt.xlabel(\"Values\")\n",
        "plt.ylabel(\"Frequency\")\n",
        "plt.title(\"Histogram\")\n",
        "plt.show()"
      ],
      "metadata": {
        "id": "WLZ-0Lsyr3e8",
        "outputId": "0d3036c0-167b-4fcc-c446-94306cf1d300",
        "colab": {
          "base_uri": "https://localhost:8080/",
          "height": 295
        }
      },
      "execution_count": 47,
      "outputs": [
        {
          "output_type": "display_data",
          "data": {
            "text/plain": [
              "<Figure size 432x288 with 1 Axes>"
            ],
            "image/png": "[encoded data removed]"
          },
          "metadata": {}
        }
      ]
    },
    {
      "cell_type": "markdown",
      "source": [
        "#**Output CoreML**"
      ],
      "metadata": {
        "id": "kGUYCKO6pe-i"
      }
    },
    {
      "cell_type": "code",
      "source": [
        "###########################\n",
        "# Output as CoreML_example\n",
        "###########################\n",
        "import torch.nn as nn\n",
        "import torch\n",
        "import torchvision\n",
        "!pip install --quiet coremltools\n",
        "import coremltools as ct\n",
        "import numpy as np\n",
        "!pip install --quiet timm\n",
        "\n",
        "\n",
        "# Load a pre-trained version of MobileNetV3\n",
        "\n",
        "base_model = timm.create_model('mobilenetv3_large_100', pretrained=True)\n",
        "\n",
        "class TorchClassificationModel(nn.Module):\n",
        "    def __init__(self):\n",
        "        super(TorchClassificationModel, self).__init__()\n",
        "        self.layers = nn.Sequential(\n",
        "            base_model,\n",
        "            nn.Softmax(dim=1)\n",
        "        )\n",
        "    def forward(self, x):\n",
        "        return self.layers(x)\n",
        "\n",
        "# Set the model in evaluation mode\n",
        "torch_model = TorchClassificationModel().eval()\n",
        "\n",
        "# Trace with random data\n",
        "example_input = torch.rand(1, 3, 224, 224) # after test, will get 'size mismatch' error message with size 256x256\n",
        "traced_model = torch.jit.trace(torch_model, example_input)\n",
        "\n",
        "\n",
        "# Download class labels (from a separate file)\n",
        "import urllib\n",
        "label_url = 'https://storage.googleapis.com/download.tensorflow.org/data/ImageNetLabels.txt'\n",
        "class_labels = urllib.request.urlopen(label_url).read().decode(\"utf-8\").splitlines()\n",
        "class_labels = class_labels[1:] # remove the first class which is background\n",
        "assert len(class_labels) == 1000\n",
        "\n",
        "\n",
        "#Set the image scale and bias for input image preprocessing.\n",
        "scale = 1.0 / (255.0 * 0.226)\n",
        "red_bias = -0.485 / 0.226\n",
        "green_bias = -0.456 / 0.226\n",
        "blue_bias = -0.406 / 0.226\n",
        "\n",
        "image_input = ct.ImageType(name=\"input_1\",\n",
        "                           shape=example_input.shape,\n",
        "                           scale=scale,\n",
        "                           bias=[red_bias, green_bias, blue_bias])\n",
        "\n",
        "# Convert to Core ML using the Unified Conversion API\n",
        "mlmodel = ct.convert(\n",
        "    traced_model,\n",
        "    inputs=[image_input], \n",
        "    classifier_config = ct.ClassifierConfig(class_labels), \n",
        "    compute_units=ct.ComputeUnit.CPU_ONLY,\n",
        ")\n",
        "\n",
        "# Save model\n",
        "mlmodel.save(\"MobileNetV3_pytorch.mlmodel\")"
      ],
      "metadata": {
        "colab": {
          "base_uri": "https://localhost:8080/"
        },
        "id": "EN85pcwkeznp",
        "outputId": "0c982481-601f-41b3-9217-bcf08c6ad63f"
      },
      "execution_count": null,
      "outputs": [
        {
          "output_type": "stream",
          "name": "stdout",
          "text": [
            "\u001b[?25l\r\u001b[K     |▏                               | 10 kB 9.4 MB/s eta 0:00:01\r\u001b[K     |▍                               | 20 kB 6.8 MB/s eta 0:00:01\r\u001b[K     |▋                               | 30 kB 9.6 MB/s eta 0:00:01\r\u001b[K     |▉                               | 40 kB 5.8 MB/s eta 0:00:01\r\u001b[K     |█                               | 51 kB 5.9 MB/s eta 0:00:01\r\u001b[K     |█▎                              | 61 kB 7.0 MB/s eta 0:00:01\r\u001b[K     |█▌                              | 71 kB 7.3 MB/s eta 0:00:01\r\u001b[K     |█▊                              | 81 kB 8.2 MB/s eta 0:00:01\r\u001b[K     |██                              | 92 kB 6.3 MB/s eta 0:00:01\r\u001b[K     |██▏                             | 102 kB 6.8 MB/s eta 0:00:01\r\u001b[K     |██▍                             | 112 kB 6.8 MB/s eta 0:00:01\r\u001b[K     |██▋                             | 122 kB 6.8 MB/s eta 0:00:01\r\u001b[K     |██▉                             | 133 kB 6.8 MB/s eta 0:00:01\r\u001b[K     |███                             | 143 kB 6.8 MB/s eta 0:00:01\r\u001b[K     |███▎                            | 153 kB 6.8 MB/s eta 0:00:01\r\u001b[K     |███▌                            | 163 kB 6.8 MB/s eta 0:00:01\r\u001b[K     |███▊                            | 174 kB 6.8 MB/s eta 0:00:01\r\u001b[K     |████                            | 184 kB 6.8 MB/s eta 0:00:01\r\u001b[K     |████▏                           | 194 kB 6.8 MB/s eta 0:00:01\r\u001b[K     |████▍                           | 204 kB 6.8 MB/s eta 0:00:01\r\u001b[K     |████▋                           | 215 kB 6.8 MB/s eta 0:00:01\r\u001b[K     |████▉                           | 225 kB 6.8 MB/s eta 0:00:01\r\u001b[K     |█████                           | 235 kB 6.8 MB/s eta 0:00:01\r\u001b[K     |█████▎                          | 245 kB 6.8 MB/s eta 0:00:01\r\u001b[K     |█████▌                          | 256 kB 6.8 MB/s eta 0:00:01\r\u001b[K     |█████▊                          | 266 kB 6.8 MB/s eta 0:00:01\r\u001b[K     |██████                          | 276 kB 6.8 MB/s eta 0:00:01\r\u001b[K     |██████▏                         | 286 kB 6.8 MB/s eta 0:00:01\r\u001b[K     |██████▍                         | 296 kB 6.8 MB/s eta 0:00:01\r\u001b[K     |██████▋                         | 307 kB 6.8 MB/s eta 0:00:01\r\u001b[K     |██████▉                         | 317 kB 6.8 MB/s eta 0:00:01\r\u001b[K     |███████                         | 327 kB 6.8 MB/s eta 0:00:01\r\u001b[K     |███████▎                        | 337 kB 6.8 MB/s eta 0:00:01\r\u001b[K     |███████▍                        | 348 kB 6.8 MB/s eta 0:00:01\r\u001b[K     |███████▋                        | 358 kB 6.8 MB/s eta 0:00:01\r\u001b[K     |███████▉                        | 368 kB 6.8 MB/s eta 0:00:01\r\u001b[K     |████████                        | 378 kB 6.8 MB/s eta 0:00:01\r\u001b[K     |████████▎                       | 389 kB 6.8 MB/s eta 0:00:01\r\u001b[K     |████████▌                       | 399 kB 6.8 MB/s eta 0:00:01\r\u001b[K     |████████▊                       | 409 kB 6.8 MB/s eta 0:00:01\r\u001b[K     |█████████                       | 419 kB 6.8 MB/s eta 0:00:01\r\u001b[K     |█████████▏                      | 430 kB 6.8 MB/s eta 0:00:01\r\u001b[K     |█████████▍                      | 440 kB 6.8 MB/s eta 0:00:01\r\u001b[K     |█████████▋                      | 450 kB 6.8 MB/s eta 0:00:01\r\u001b[K     |█████████▉                      | 460 kB 6.8 MB/s eta 0:00:01\r\u001b[K     |██████████                      | 471 kB 6.8 MB/s eta 0:00:01\r\u001b[K     |██████████▎                     | 481 kB 6.8 MB/s eta 0:00:01\r\u001b[K     |██████████▌                     | 491 kB 6.8 MB/s eta 0:00:01\r\u001b[K     |██████████▊                     | 501 kB 6.8 MB/s eta 0:00:01\r\u001b[K     |███████████                     | 512 kB 6.8 MB/s eta 0:00:01\r\u001b[K     |███████████▏                    | 522 kB 6.8 MB/s eta 0:00:01\r\u001b[K     |███████████▍                    | 532 kB 6.8 MB/s eta 0:00:01\r\u001b[K     |███████████▋                    | 542 kB 6.8 MB/s eta 0:00:01\r\u001b[K     |███████████▉                    | 552 kB 6.8 MB/s eta 0:00:01\r\u001b[K     |████████████                    | 563 kB 6.8 MB/s eta 0:00:01\r\u001b[K     |████████████▎                   | 573 kB 6.8 MB/s eta 0:00:01\r\u001b[K     |████████████▌                   | 583 kB 6.8 MB/s eta 0:00:01\r\u001b[K     |████████████▊                   | 593 kB 6.8 MB/s eta 0:00:01\r\u001b[K     |█████████████                   | 604 kB 6.8 MB/s eta 0:00:01\r\u001b[K     |█████████████▏                  | 614 kB 6.8 MB/s eta 0:00:01\r\u001b[K     |█████████████▍                  | 624 kB 6.8 MB/s eta 0:00:01\r\u001b[K     |█████████████▋                  | 634 kB 6.8 MB/s eta 0:00:01\r\u001b[K     |█████████████▉                  | 645 kB 6.8 MB/s eta 0:00:01\r\u001b[K     |██████████████                  | 655 kB 6.8 MB/s eta 0:00:01\r\u001b[K     |██████████████▎                 | 665 kB 6.8 MB/s eta 0:00:01\r\u001b[K     |██████████████▌                 | 675 kB 6.8 MB/s eta 0:00:01\r\u001b[K     |██████████████▋                 | 686 kB 6.8 MB/s eta 0:00:01\r\u001b[K     |██████████████▉                 | 696 kB 6.8 MB/s eta 0:00:01\r\u001b[K     |███████████████                 | 706 kB 6.8 MB/s eta 0:00:01\r\u001b[K     |███████████████▎                | 716 kB 6.8 MB/s eta 0:00:01\r\u001b[K     |███████████████▌                | 727 kB 6.8 MB/s eta 0:00:01\r\u001b[K     |███████████████▊                | 737 kB 6.8 MB/s eta 0:00:01\r\u001b[K     |████████████████                | 747 kB 6.8 MB/s eta 0:00:01\r\u001b[K     |████████████████▏               | 757 kB 6.8 MB/s eta 0:00:01\r\u001b[K     |████████████████▍               | 768 kB 6.8 MB/s eta 0:00:01\r\u001b[K     |████████████████▋               | 778 kB 6.8 MB/s eta 0:00:01\r\u001b[K     |████████████████▉               | 788 kB 6.8 MB/s eta 0:00:01\r\u001b[K     |█████████████████               | 798 kB 6.8 MB/s eta 0:00:01\r\u001b[K     |█████████████████▎              | 808 kB 6.8 MB/s eta 0:00:01\r\u001b[K     |█████████████████▌              | 819 kB 6.8 MB/s eta 0:00:01\r\u001b[K     |█████████████████▊              | 829 kB 6.8 MB/s eta 0:00:01\r\u001b[K     |██████████████████              | 839 kB 6.8 MB/s eta 0:00:01\r\u001b[K     |██████████████████▏             | 849 kB 6.8 MB/s eta 0:00:01\r\u001b[K     |██████████████████▍             | 860 kB 6.8 MB/s eta 0:00:01\r\u001b[K     |██████████████████▋             | 870 kB 6.8 MB/s eta 0:00:01\r\u001b[K     |██████████████████▉             | 880 kB 6.8 MB/s eta 0:00:01\r\u001b[K     |███████████████████             | 890 kB 6.8 MB/s eta 0:00:01\r\u001b[K     |███████████████████▎            | 901 kB 6.8 MB/s eta 0:00:01\r\u001b[K     |███████████████████▌            | 911 kB 6.8 MB/s eta 0:00:01\r\u001b[K     |███████████████████▊            | 921 kB 6.8 MB/s eta 0:00:01\r\u001b[K     |████████████████████            | 931 kB 6.8 MB/s eta 0:00:01\r\u001b[K     |████████████████████▏           | 942 kB 6.8 MB/s eta 0:00:01\r\u001b[K     |████████████████████▍           | 952 kB 6.8 MB/s eta 0:00:01\r\u001b[K     |████████████████████▋           | 962 kB 6.8 MB/s eta 0:00:01\r\u001b[K     |████████████████████▉           | 972 kB 6.8 MB/s eta 0:00:01\r\u001b[K     |█████████████████████           | 983 kB 6.8 MB/s eta 0:00:01\r\u001b[K     |█████████████████████▎          | 993 kB 6.8 MB/s eta 0:00:01\r\u001b[K     |█████████████████████▌          | 1.0 MB 6.8 MB/s eta 0:00:01\r\u001b[K     |█████████████████████▊          | 1.0 MB 6.8 MB/s eta 0:00:01\r\u001b[K     |█████████████████████▉          | 1.0 MB 6.8 MB/s eta 0:00:01\r\u001b[K     |██████████████████████          | 1.0 MB 6.8 MB/s eta 0:00:01\r\u001b[K     |██████████████████████▎         | 1.0 MB 6.8 MB/s eta 0:00:01\r\u001b[K     |██████████████████████▌         | 1.1 MB 6.8 MB/s eta 0:00:01\r\u001b[K     |██████████████████████▊         | 1.1 MB 6.8 MB/s eta 0:00:01\r\u001b[K     |███████████████████████         | 1.1 MB 6.8 MB/s eta 0:00:01\r\u001b[K     |███████████████████████▏        | 1.1 MB 6.8 MB/s eta 0:00:01\r\u001b[K     |███████████████████████▍        | 1.1 MB 6.8 MB/s eta 0:00:01\r\u001b[K     |███████████████████████▋        | 1.1 MB 6.8 MB/s eta 0:00:01\r\u001b[K     |███████████████████████▉        | 1.1 MB 6.8 MB/s eta 0:00:01\r\u001b[K     |████████████████████████        | 1.1 MB 6.8 MB/s eta 0:00:01\r\u001b[K     |████████████████████████▎       | 1.1 MB 6.8 MB/s eta 0:00:01\r\u001b[K     |████████████████████████▌       | 1.1 MB 6.8 MB/s eta 0:00:01\r\u001b[K     |████████████████████████▊       | 1.2 MB 6.8 MB/s eta 0:00:01\r\u001b[K     |█████████████████████████       | 1.2 MB 6.8 MB/s eta 0:00:01\r\u001b[K     |█████████████████████████▏      | 1.2 MB 6.8 MB/s eta 0:00:01\r\u001b[K     |█████████████████████████▍      | 1.2 MB 6.8 MB/s eta 0:00:01\r\u001b[K     |█████████████████████████▋      | 1.2 MB 6.8 MB/s eta 0:00:01\r\u001b[K     |█████████████████████████▉      | 1.2 MB 6.8 MB/s eta 0:00:01\r\u001b[K     |██████████████████████████      | 1.2 MB 6.8 MB/s eta 0:00:01\r\u001b[K     |██████████████████████████▎     | 1.2 MB 6.8 MB/s eta 0:00:01\r\u001b[K     |██████████████████████████▌     | 1.2 MB 6.8 MB/s eta 0:00:01\r\u001b[K     |██████████████████████████▊     | 1.2 MB 6.8 MB/s eta 0:00:01\r\u001b[K     |███████████████████████████     | 1.3 MB 6.8 MB/s eta 0:00:01\r\u001b[K     |███████████████████████████▏    | 1.3 MB 6.8 MB/s eta 0:00:01\r\u001b[K     |███████████████████████████▍    | 1.3 MB 6.8 MB/s eta 0:00:01\r\u001b[K     |███████████████████████████▋    | 1.3 MB 6.8 MB/s eta 0:00:01\r\u001b[K     |███████████████████████████▉    | 1.3 MB 6.8 MB/s eta 0:00:01\r\u001b[K     |████████████████████████████    | 1.3 MB 6.8 MB/s eta 0:00:01\r\u001b[K     |████████████████████████████▎   | 1.3 MB 6.8 MB/s eta 0:00:01\r\u001b[K     |████████████████████████████▌   | 1.3 MB 6.8 MB/s eta 0:00:01\r\u001b[K     |████████████████████████████▊   | 1.3 MB 6.8 MB/s eta 0:00:01\r\u001b[K     |█████████████████████████████   | 1.4 MB 6.8 MB/s eta 0:00:01\r\u001b[K     |█████████████████████████████▏  | 1.4 MB 6.8 MB/s eta 0:00:01\r\u001b[K     |█████████████████████████████▎  | 1.4 MB 6.8 MB/s eta 0:00:01\r\u001b[K     |█████████████████████████████▌  | 1.4 MB 6.8 MB/s eta 0:00:01\r\u001b[K     |█████████████████████████████▊  | 1.4 MB 6.8 MB/s eta 0:00:01\r\u001b[K     |██████████████████████████████  | 1.4 MB 6.8 MB/s eta 0:00:01\r\u001b[K     |██████████████████████████████▏ | 1.4 MB 6.8 MB/s eta 0:00:01\r\u001b[K     |██████████████████████████████▍ | 1.4 MB 6.8 MB/s eta 0:00:01\r\u001b[K     |██████████████████████████████▋ | 1.4 MB 6.8 MB/s eta 0:00:01\r\u001b[K     |██████████████████████████████▉ | 1.4 MB 6.8 MB/s eta 0:00:01\r\u001b[K     |███████████████████████████████ | 1.5 MB 6.8 MB/s eta 0:00:01\r\u001b[K     |███████████████████████████████▎| 1.5 MB 6.8 MB/s eta 0:00:01\r\u001b[K     |███████████████████████████████▌| 1.5 MB 6.8 MB/s eta 0:00:01\r\u001b[K     |███████████████████████████████▊| 1.5 MB 6.8 MB/s eta 0:00:01\r\u001b[K     |████████████████████████████████| 1.5 MB 6.8 MB/s eta 0:00:01\r\u001b[K     |████████████████████████████████| 1.5 MB 6.8 MB/s \n",
            "\u001b[?25h"
          ]
        },
        {
          "output_type": "stream",
          "name": "stderr",
          "text": [
            "WARNING:root:TensorFlow version 2.9.2 has not been tested with coremltools. You may run into unexpected errors. TensorFlow 2.8.0 is the most recent version that has been tested.\n",
            "Converting PyTorch Frontend ==> MIL Ops: 100%|█████████▉| 467/468 [00:00<00:00, 1244.78 ops/s]\n",
            "Running MIL Common passes:   0%|          | 0/38 [00:00<?, ? passes/s]/usr/local/lib/python3.7/dist-packages/coremltools/converters/mil/mil/passes/name_sanitization_utils.py:129: UserWarning: Output, '879', of the source model, has been renamed to 'var_879' in the Core ML model.\n",
            "  warnings.warn(msg.format(var.name, new_name))\n",
            "Running MIL Common passes: 100%|██████████| 38/38 [00:00<00:00, 59.40 passes/s]\n",
            "Running MIL Clean up passes: 100%|██████████| 11/11 [00:00<00:00, 84.66 passes/s]\n",
            "Translating MIL ==> NeuralNetwork Ops: 100%|██████████| 665/665 [00:00<00:00, 1466.69 ops/s]\n"
          ]
        }
      ]
    },
    {
      "cell_type": "code",
      "source": [
        "###########################\n",
        "# Output as CoreML 飛ばして下さい\n",
        "###########################\n",
        "\n",
        "import torch\n",
        "import torchvision\n",
        "import torch.nn as nn\n",
        "!pip install --quiet coremltools\n",
        "import coremltools as ct\n",
        "\n",
        "# Load a pre-trained version of MobileNetV3\n",
        "class TorchClassificationModel(nn.Module):\n",
        "    def __init__(self):\n",
        "        super(TorchClassificationModel, self).__init__()\n",
        "        self.layers = nn.Sequential(\n",
        "            model_ft,\n",
        "            nn.Softmax(dim=1)\n",
        "        )\n",
        "    def forward(self, x):\n",
        "        return self.layers(x)\n",
        "\n",
        "\n",
        "# Set the model in evaluation mode\n",
        "torch_model = TorchClassificationModel().eval()\n",
        "torch_model = torch_model.to(\"cpu\")\n",
        "\n",
        "\n",
        "# Trace with random data\n",
        "example_input = torch.rand(1, 3, 224, 224) # after test, will get 'size mismatch' error message with size 256x256\n",
        "traced_model = torch.jit.trace(torch_model, example_input)\n",
        "\n",
        "\n",
        "# Download class labels (from a separate file)\n",
        "#import urllib\n",
        "#label_url = 'https://storage.googleapis.com/download.tensorflow.org/data/ImageNetLabels.txt'\n",
        "#class_labels = urllib.request.urlopen(label_url).read().decode(\"utf-8\").splitlines()\n",
        "class_labels = [\"cont\", \"grav\"]\n",
        "\n",
        "\n",
        "#Set the image scale and bias for input image preprocessing.\n",
        "scale = 1.0 / (255.0 * 0.226)\n",
        "red_bias = -0.485 / 0.226\n",
        "green_bias = -0.456 / 0.226\n",
        "blue_bias = -0.406 / 0.226\n",
        "\n",
        "image_input = ct.ImageType(name=\"input_1\",\n",
        "                           shape=example_input.shape,\n",
        "                           scale=scale,\n",
        "                           bias=[red_bias, green_bias, blue_bias])\n",
        "\n",
        "# Convert to Core ML using the Unified Conversion API\n",
        "mlmodel = ct.convert(\n",
        "    traced_model,\n",
        "    inputs=[image_input], \n",
        "    classifier_config = ct.ClassifierConfig(class_labels), \n",
        "    compute_units=ct.ComputeUnit.CPU_ONLY,\n",
        ")\n",
        "\n",
        "\n",
        "# # Convert to Core ML using the Unified Conversion API\n",
        "# mlmodel = ct.convert(\n",
        "#     traced_model,\n",
        "#     inputs=[ct.ImageType(name=\"input_1\", shape=example_input.shape)], #name \"input_1\" is used in 'quickstart'\n",
        "#     classifier_config = ct.ClassifierConfig(class_labels) # provide only if step 2 was performed\n",
        "# )\n",
        "\n",
        "# Save model\n",
        "mlmodel.save(\"/content/gravcont_mobilenetv3.mlmodel\")\n"
      ],
      "metadata": {
        "id": "nggE6m1ah8G0",
        "colab": {
          "base_uri": "https://localhost:8080/"
        },
        "outputId": "a1da4890-761a-48ae-b83f-df7c1e9e8727"
      },
      "execution_count": null,
      "outputs": [
        {
          "output_type": "stream",
          "name": "stderr",
          "text": [
            "Converting PyTorch Frontend ==> MIL Ops: 100%|█████████▉| 467/468 [00:00<00:00, 2482.53 ops/s]\n",
            "Running MIL Common passes: 100%|██████████| 38/38 [00:00<00:00, 60.42 passes/s]\n",
            "Running MIL Clean up passes: 100%|██████████| 11/11 [00:00<00:00, 83.79 passes/s]\n",
            "Translating MIL ==> NeuralNetwork Ops: 100%|██████████| 665/665 [00:00<00:00, 1744.69 ops/s]\n"
          ]
        }
      ]
    },
    {
      "cell_type": "code",
      "source": [
        "################################\n",
        "### Output as CoreML (Tensor type) ###\n",
        "################################\n",
        "import torch\n",
        "import torchvision\n",
        "import torch.nn as nn\n",
        "!pip install --quiet coremltools\n",
        "import coremltools as ct\n",
        "\n",
        "# Load a pre-trained version of MobileNetV3\n",
        "class TorchClassificationModel(nn.Module):\n",
        "    def __init__(self):\n",
        "        super(TorchClassificationModel, self).__init__()\n",
        "        self.layers = nn.Sequential(\n",
        "            model_ft,\n",
        "            nn.Softmax(dim=1)\n",
        "        )\n",
        "    def forward(self, x):\n",
        "        return self.layers(x)\n",
        "\n",
        "\n",
        "# Set the model in evaluation mode\n",
        "torch_model = TorchClassificationModel().eval()\n",
        "torch_model = torch_model.to(\"cpu\")\n",
        "\n",
        "\n",
        "# Trace with random data\n",
        "example_input = torch.rand(1, 3, 224, 224) # after test, will get 'size mismatch' error message with size 256x256\n",
        "traced_model = torch.jit.trace(torch_model, example_input)\n",
        "\n",
        "\n",
        "# Download class labels (from a separate file)\n",
        "#import urllib\n",
        "#label_url = 'https://storage.googleapis.com/download.tensorflow.org/data/ImageNetLabels.txt'\n",
        "#class_labels = urllib.request.urlopen(label_url).read().decode(\"utf-8\").splitlines()\n",
        "class_labels = [\"cont\", \"grav\"]\n",
        "\n",
        "# Convert to Core ML using the Unified Conversion API\n",
        "mlmodel = ct.convert(\n",
        "    traced_model,\n",
        "    inputs=[ct.TensorType(name=\"input_1\", shape=example_input.shape)], #name \"input_1\" is used in 'quickstart'\n",
        "    classifier_config = ct.ClassifierConfig(class_labels) # provide only if step 2 was performed\n",
        ")\n",
        "\n",
        "# Save model\n",
        "mlmodel.save(\"/content/gravcont_mobilenetv3.mlmodel\")"
      ],
      "metadata": {
        "colab": {
          "base_uri": "https://localhost:8080/"
        },
        "id": "ndvCOs4aGQ18",
        "outputId": "a4ef679d-adf7-4799-9993-ecf8bfff7f82"
      },
      "execution_count": null,
      "outputs": [
        {
          "output_type": "stream",
          "name": "stderr",
          "text": [
            "Converting PyTorch Frontend ==> MIL Ops: 100%|█████████▉| 467/468 [00:00<00:00, 2451.94 ops/s]\n",
            "Running MIL Common passes:   0%|          | 0/38 [00:00<?, ? passes/s]/usr/local/lib/python3.7/dist-packages/coremltools/converters/mil/mil/passes/name_sanitization_utils.py:129: UserWarning: Output, '879', of the source model, has been renamed to 'var_879' in the Core ML model.\n",
            "  warnings.warn(msg.format(var.name, new_name))\n",
            "Running MIL Common passes: 100%|██████████| 38/38 [00:00<00:00, 60.45 passes/s]\n",
            "Running MIL Clean up passes: 100%|██████████| 11/11 [00:00<00:00, 85.48 passes/s]\n",
            "Translating MIL ==> NeuralNetwork Ops: 100%|██████████| 665/665 [00:00<00:00, 1717.72 ops/s]\n"
          ]
        }
      ]
    },
    {
      "cell_type": "markdown",
      "source": [
        "#**Interference on CoreML model**"
      ],
      "metadata": {
        "id": "a8hqka6ery11"
      }
    },
    {
      "cell_type": "code",
      "source": [
        "# This script can be used in Mac only\n",
        "\n",
        "##https://gist.github.com/ozgurshn/85cf74558d82c831827e12f015f752a1\n",
        "##https://github.com/apple/coremltools/blob/master/examples/APIExamples.md\n",
        "import coremltools\n",
        "import numpy as np\n",
        "import PIL.Image\n",
        "\n",
        "# load a model whose input type is \"Image\"\n",
        "model = coremltools.models.MLModel('/content/gravcont_mobilenetv3.mlmodel')\n",
        "\n",
        "Height = 224  # use the correct input image height\n",
        "Width = 224  # use the correct input image width\n",
        "\n",
        "\n",
        "# Scenario 1: load an image from disk\n",
        "def load_image(path, resize_to=None):\n",
        "    # resize_to: (Width, Height)\n",
        "    img = PIL.Image.open(path)\n",
        "    if resize_to is not None:\n",
        "        img = img.resize(resize_to, PIL.Image.ANTIALIAS)\n",
        "    img_np = np.array(img).astype(np.float32)\n",
        "    return img_np, img\n",
        "\n",
        "\n",
        "# load the image and resize using PIL utilities\n",
        "_, img = load_image('/content/drive/MyDrive/Deep_learning/GO_extended_dataset/GO_newPatient_250px/スライド1.jpeg', resize_to=(Width, Height))\n",
        "out_dict = model.predict({'image': img})\n",
        "\n",
        "# Scenario 2: load an image from a numpy array\n",
        "shape = (Height, Width, 3)  # height x width x RGB\n",
        "data = np.zeros(shape, dtype=np.uint8)\n",
        "# manipulate numpy data\n",
        "pil_img = PIL.Image.fromarray(data)\n",
        "out_dict = model.predict({'image': pil_img})"
      ],
      "metadata": {
        "colab": {
          "base_uri": "https://localhost:8080/",
          "height": 425
        },
        "id": "mlesVk5aQln-",
        "outputId": "2fe8cb94-f9c7-457d-e587-080f18fac2ca"
      },
      "execution_count": null,
      "outputs": [
        {
          "output_type": "error",
          "ename": "Exception",
          "evalue": "ignored",
          "traceback": [
            "\u001b[0;31m---------------------------------------------------------------------------\u001b[0m",
            "\u001b[0;31mException\u001b[0m                                 Traceback (most recent call last)",
            "\u001b[0;32m<ipython-input-13-c0ccb8862f10>\u001b[0m in \u001b[0;36m<module>\u001b[0;34m\u001b[0m\n\u001b[1;32m     24\u001b[0m \u001b[0;31m# load the image and resize using PIL utilities\u001b[0m\u001b[0;34m\u001b[0m\u001b[0;34m\u001b[0m\u001b[0;34m\u001b[0m\u001b[0m\n\u001b[1;32m     25\u001b[0m \u001b[0m_\u001b[0m\u001b[0;34m,\u001b[0m \u001b[0mimg\u001b[0m \u001b[0;34m=\u001b[0m \u001b[0mload_image\u001b[0m\u001b[0;34m(\u001b[0m\u001b[0;34m'/content/drive/MyDrive/Deep_learning/GO_extended_dataset/GO_newPatient_250px/スライド1.jpeg'\u001b[0m\u001b[0;34m,\u001b[0m \u001b[0mresize_to\u001b[0m\u001b[0;34m=\u001b[0m\u001b[0;34m(\u001b[0m\u001b[0mWidth\u001b[0m\u001b[0;34m,\u001b[0m \u001b[0mHeight\u001b[0m\u001b[0;34m)\u001b[0m\u001b[0;34m)\u001b[0m\u001b[0;34m\u001b[0m\u001b[0;34m\u001b[0m\u001b[0m\n\u001b[0;32m---> 26\u001b[0;31m \u001b[0mout_dict\u001b[0m \u001b[0;34m=\u001b[0m \u001b[0mmodel\u001b[0m\u001b[0;34m.\u001b[0m\u001b[0mpredict\u001b[0m\u001b[0;34m(\u001b[0m\u001b[0;34m{\u001b[0m\u001b[0;34m'image'\u001b[0m\u001b[0;34m:\u001b[0m \u001b[0mimg\u001b[0m\u001b[0;34m}\u001b[0m\u001b[0;34m)\u001b[0m\u001b[0;34m\u001b[0m\u001b[0;34m\u001b[0m\u001b[0m\n\u001b[0m\u001b[1;32m     27\u001b[0m \u001b[0;34m\u001b[0m\u001b[0m\n\u001b[1;32m     28\u001b[0m \u001b[0;31m# Scenario 2: load an image from a numpy array\u001b[0m\u001b[0;34m\u001b[0m\u001b[0;34m\u001b[0m\u001b[0;34m\u001b[0m\u001b[0m\n",
            "\u001b[0;32m/usr/local/lib/python3.7/dist-packages/coremltools/models/model.py\u001b[0m in \u001b[0;36mpredict\u001b[0;34m(self, data)\u001b[0m\n\u001b[1;32m    522\u001b[0m             \u001b[0;32mif\u001b[0m \u001b[0m_macos_version\u001b[0m\u001b[0;34m(\u001b[0m\u001b[0;34m)\u001b[0m \u001b[0;34m<\u001b[0m \u001b[0;34m(\u001b[0m\u001b[0;36m10\u001b[0m\u001b[0;34m,\u001b[0m \u001b[0;36m13\u001b[0m\u001b[0;34m)\u001b[0m\u001b[0;34m:\u001b[0m\u001b[0;34m\u001b[0m\u001b[0;34m\u001b[0m\u001b[0m\n\u001b[1;32m    523\u001b[0m                 raise Exception(\n\u001b[0;32m--> 524\u001b[0;31m                     \u001b[0;34m\"Model prediction is only supported on macOS version 10.13 or later.\"\u001b[0m\u001b[0;34m\u001b[0m\u001b[0;34m\u001b[0m\u001b[0m\n\u001b[0m\u001b[1;32m    525\u001b[0m                 )\n\u001b[1;32m    526\u001b[0m \u001b[0;34m\u001b[0m\u001b[0m\n",
            "\u001b[0;31mException\u001b[0m: Model prediction is only supported on macOS version 10.13 or later."
          ]
        }
      ]
    },
    {
      "cell_type": "markdown",
      "source": [
        "##**Interference without Mac**"
      ],
      "metadata": {
        "id": "UMIWSpNBr8A7"
      }
    },
    {
      "cell_type": "code",
      "source": [
        "#https://tvm.apache.org/docs/how_to/compile_models/from_coreml.html\n",
        "!pip install --quiet apache-tvm\n",
        "!pip install --quiet coremltools\n",
        "import tvm\n",
        "from tvm import te\n",
        "import tvm.relay as relay\n",
        "from tvm.contrib.download import download_testdata\n",
        "import coremltools as cm\n",
        "import numpy as np\n",
        "from PIL import Image"
      ],
      "metadata": {
        "colab": {
          "base_uri": "https://localhost:8080/"
        },
        "id": "dK8mOh84o3Ih",
        "outputId": "aee9507e-41fc-4c37-828d-96b2ee08006c"
      },
      "execution_count": null,
      "outputs": [
        {
          "output_type": "stream",
          "name": "stdout",
          "text": [
            "\u001b[K     |████████████████████████████████| 42.8 MB 1.2 MB/s \n",
            "\u001b[?25h"
          ]
        }
      ]
    },
    {
      "cell_type": "markdown",
      "source": [
        "###**Load the model**"
      ],
      "metadata": {
        "id": "5S-9HAe7qjC1"
      }
    },
    {
      "cell_type": "code",
      "source": [
        "model_url = \"https://docs-assets.developer.apple.com/coreml/models/MobileNet.mlmodel\"\n",
        "model_file = \"mobilenet.mlmodel\"\n",
        "model_path = download_testdata(model_url, model_file, module=\"coreml\")\n",
        "# Now you have mobilenet.mlmodel on disk\n",
        "mlmodel = cm.models.MLModel(model_path)"
      ],
      "metadata": {
        "id": "1k6jpavuqFHs"
      },
      "execution_count": null,
      "outputs": []
    },
    {
      "cell_type": "markdown",
      "source": [
        "###**Load the test image**"
      ],
      "metadata": {
        "id": "hEI_hbRbqJdF"
      }
    },
    {
      "cell_type": "code",
      "source": [
        "img_url = \"https://github.com/dmlc/mxnet.js/blob/main/data/cat.png?raw=true\"\n",
        "img_path = download_testdata(img_url, \"cat.png\", module=\"data\")\n",
        "img = Image.open(img_path).resize((224, 224))\n",
        "# Mobilenet.mlmodel's input is BGR format\n",
        "img_bgr = np.array(img)[:, :, ::-1]\n",
        "x = np.transpose(img_bgr, (2, 0, 1))[np.newaxis, :]"
      ],
      "metadata": {
        "id": "kCriDoPpqfxM"
      },
      "execution_count": null,
      "outputs": []
    },
    {
      "cell_type": "markdown",
      "source": [
        "###**Compile model on relay**"
      ],
      "metadata": {
        "id": "_uTYH_-prJ5d"
      }
    },
    {
      "cell_type": "code",
      "source": [
        "target = \"llvm\"\n",
        "shape_dict = {\"image\": x.shape}\n",
        "\n",
        "# Parse CoreML model and convert into Relay computation graph\n",
        "mod, params = relay.frontend.from_coreml(mlmodel, shape_dict)\n",
        "\n",
        "with tvm.transform.PassContext(opt_level=3):\n",
        "    lib = relay.build(mod, target, params=params)"
      ],
      "metadata": {
        "colab": {
          "base_uri": "https://localhost:8080/"
        },
        "id": "kD584_4lqPGX",
        "outputId": "385a912a-3d2b-44c8-85e7-692141e2d62e"
      },
      "execution_count": null,
      "outputs": [
        {
          "output_type": "stream",
          "name": "stderr",
          "text": [
            "/usr/local/lib/python3.7/dist-packages/tvm/driver/build_module.py:268: UserWarning: target_host parameter is going to be deprecated. Please pass in tvm.target.Target(target, host=target_host) instead.\n",
            "  \"target_host parameter is going to be deprecated. \"\n",
            "WARNING:autotvm:One or more operators have not been tuned. Please tune your model for better performance. Use DEBUG logging level to see more details.\n"
          ]
        }
      ]
    },
    {
      "cell_type": "code",
      "source": [
        "#Execute on TVM (これはサンプルの通り)\n",
        "from tvm.contrib import graph_executor\n",
        "\n",
        "dev = tvm.cpu(0)\n",
        "dtype = \"float32\"\n",
        "m = graph_executor.GraphModule(lib[\"default\"](dev))\n",
        "# set inputs\n",
        "m.set_input(\"image\", tvm.nd.array(x.astype(dtype)))\n",
        "# execute\n",
        "m.run()\n",
        "# get outputs\n",
        "tvm_output = m.get_output(0)\n",
        "top1 = np.argmax(tvm_output.numpy()[0])"
      ],
      "metadata": {
        "id": "eEVnsfV8rU5_"
      },
      "execution_count": null,
      "outputs": []
    },
    {
      "cell_type": "markdown",
      "source": [
        "###**Look up system name**"
      ],
      "metadata": {
        "id": "10OvE25urm0C"
      }
    },
    {
      "cell_type": "code",
      "source": [
        "synset_url = \"\".join(\n",
        "    [\n",
        "        \"https://gist.githubusercontent.com/zhreshold/\",\n",
        "        \"4d0b62f3d01426887599d4f7ede23ee5/raw/\",\n",
        "        \"596b27d23537e5a1b5751d2b0481ef172f58b539/\",\n",
        "        \"imagenet1000_clsid_to_human.txt\",\n",
        "    ]\n",
        ")\n",
        "synset_name = \"imagenet1000_clsid_to_human.txt\"\n",
        "synset_path = download_testdata(synset_url, synset_name, module=\"data\")\n",
        "with open(synset_path) as f:\n",
        "    synset = eval(f.read())\n",
        "# You should see the following result: Top-1 id 282 class name tiger cat\n",
        "print(\"Top-1 id\", top1, \"class name\", synset[top1])"
      ],
      "metadata": {
        "colab": {
          "base_uri": "https://localhost:8080/"
        },
        "id": "uNZsGci-rhPY",
        "outputId": "e1ac8a1c-d2bd-497c-a63b-c5d7e2cac521"
      },
      "execution_count": null,
      "outputs": [
        {
          "output_type": "stream",
          "name": "stdout",
          "text": [
            "Top-1 id 282 class name tiger cat\n"
          ]
        }
      ]
    }
  ]
}